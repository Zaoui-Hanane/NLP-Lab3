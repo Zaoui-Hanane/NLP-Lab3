{
 "cells": [
  {
   "cell_type": "markdown",
   "id": "7283b228-bd2a-4b9b-8da0-eb4207f92f3a",
   "metadata": {},
   "source": [
    "## Part 1 "
   ]
  },
  {
   "cell_type": "code",
   "execution_count": 112,
   "id": "6d55da0d-6260-4851-8ba9-5ac88093507e",
   "metadata": {},
   "outputs": [],
   "source": [
    "import pandas as pd\n",
    "import numpy as np\n",
    "import matplotlib.pyplot as plt\n",
    "from sklearn.cluster import KMeans\n",
    "from nltk.tokenize import word_tokenize\n",
    "from nltk.corpus import stopwords\n",
    "from nltk.stem import PorterStemmer\n",
    "from sklearn.feature_extraction.text import CountVectorizer, TfidfVectorizer\n",
    "from sklearn.model_selection import train_test_split\n",
    "from sklearn.svm import SVR\n",
    "from sklearn.linear_model import LinearRegression\n",
    "from sklearn.tree import DecisionTreeRegressor\n",
    "from sklearn.metrics import mean_squared_error, r2_score\n",
    "from gensim.models import Word2Vec\n",
    "from sklearn.naive_bayes import GaussianNB"
   ]
  },
  {
   "cell_type": "code",
   "execution_count": 113,
   "id": "b2f7dc44-cb27-4360-9f33-435fa7bccd3b",
   "metadata": {},
   "outputs": [
    {
     "name": "stdout",
     "output_type": "stream",
     "text": [
      "    id                                             answer  score  correct\n",
      "0  1.1  High risk problems are address in the prototyp...    3.5      0.0\n",
      "1  1.1  To simulate portions of the desired final prod...    5.0      1.0\n",
      "2  1.1  A prototype program simulates the behaviors of...    4.0      1.0\n",
      "3  1.1  Defined in the Specification phase a prototype...    5.0      1.0\n",
      "4  1.1  It is used to let the users have a first idea ...    3.0      0.0\n"
     ]
    }
   ],
   "source": [
    "data = pd.read_csv('answers.csv')\n",
    "print(data.head())"
   ]
  },
  {
   "cell_type": "code",
   "execution_count": 114,
   "id": "6a8b493a-40a5-409e-b31c-d85b398f241f",
   "metadata": {},
   "outputs": [],
   "source": [
    "\n",
    "stop_words = set(stopwords.words('english'))\n",
    "stemmer = PorterStemmer()\n",
    "\n",
    "def preprocess_text(text):\n",
    "    tokens = word_tokenize(text.lower())\n",
    "    tokens = [stemmer.stem(token) for token in tokens if token.isalnum() and token not in stop_words]\n",
    "    return ' '.join(tokens)\n",
    "\n",
    "data['processed_answer'] = data['answer'].apply(preprocess_text)"
   ]
  },
  {
   "cell_type": "code",
   "execution_count": 115,
   "id": "e4183b22-7df7-4151-beca-1716f9c7e64d",
   "metadata": {},
   "outputs": [],
   "source": [
    "sentences = [word_tokenize(answer.lower()) for answer in data['answer']]\n",
    "word2vec_model = Word2Vec(sentences, vector_size=100, window=5, min_count=1, workers=4)\n",
    "\n",
    "vectorizer = CountVectorizer()\n",
    "X_bow = vectorizer.fit_transform(data['processed_answer'])\n",
    "\n",
    "tfidf_vectorizer = TfidfVectorizer()\n",
    "X_tfidf = tfidf_vectorizer.fit_transform(data['processed_answer'])\n"
   ]
  },
  {
   "cell_type": "code",
   "execution_count": 118,
   "id": "c0e35c79-6499-433d-8de7-cb28c327c712",
   "metadata": {},
   "outputs": [],
   "source": [
    "def get_document_vector(doc):\n",
    "    vectors = [word2vec_model.wv[word] for word in doc if word in word2vec_model.wv]\n",
    "    if len(vectors) == 0:\n",
    "        return np.zeros(100)\n",
    "    return np.mean(vectors, axis=0)\n",
    "\n",
    "data['doc_vector'] = data['processed_answer'].apply(get_document_vector)"
   ]
  },
  {
   "cell_type": "code",
   "execution_count": 119,
   "id": "6dfe8592-4543-4f42-b1ac-ce1169dd207d",
   "metadata": {},
   "outputs": [],
   "source": [
    "X = np.array(data['doc_vector'].tolist())\n",
    "y = data['score']\n",
    "\n",
    "X_train, X_test, y_train, y_test = train_test_split(X, y, test_size=0.2, random_state=42)\n",
    "\n"
   ]
  },
  {
   "cell_type": "code",
   "execution_count": 120,
   "id": "9bccac76-6bfb-47e4-9761-b502a143599c",
   "metadata": {},
   "outputs": [
    {
     "name": "stdout",
     "output_type": "stream",
     "text": [
      "Model: SVR\n",
      "Mean Squared Error: 1.5882719182310074\n",
      "Root Mean Squared Error: 1.2602666060127943\n",
      "R-squared: -0.2417634798465298\n"
     ]
    }
   ],
   "source": [
    "svr_model = SVR()\n",
    "svr_model.fit(X_train, y_train)\n",
    "\n",
    "y_pred_svr = svr_model.predict(X_test)\n",
    "mse_svr = mean_squared_error(y_test, y_pred_svr)\n",
    "rmse_svr = np.sqrt(mse_svr)\n",
    "r2_svr = r2_score(y_test, y_pred_svr)\n",
    "\n",
    "print(f\"Model: SVR\")\n",
    "print(f\"Mean Squared Error: {mse_svr}\")\n",
    "print(f\"Root Mean Squared Error: {rmse_svr}\")\n",
    "print(f\"R-squared: {r2_svr}\")"
   ]
  },
  {
   "cell_type": "code",
   "execution_count": 121,
   "id": "a127acd4-c8e7-42fe-bbbe-6d4bd5f5a022",
   "metadata": {},
   "outputs": [
    {
     "name": "stdout",
     "output_type": "stream",
     "text": [
      "Model: LinearRegression\n",
      "Mean Squared Error: 1.3266568634594469\n",
      "Root Mean Squared Error: 1.1518059139713803\n",
      "R-squared: -0.037224183354275686\n"
     ]
    }
   ],
   "source": [
    "lr_model = LinearRegression()\n",
    "lr_model.fit(X_train, y_train)\n",
    "\n",
    "y_pred_lr = lr_model.predict(X_test)\n",
    "mse_lr = mean_squared_error(y_test, y_pred_lr)\n",
    "rmse_lr = np.sqrt(mse_lr)\n",
    "r2_lr = r2_score(y_test, y_pred_lr)\n",
    "\n",
    "print(f\"Model: LinearRegression\")\n",
    "print(f\"Mean Squared Error: {mse_lr}\")\n",
    "print(f\"Root Mean Squared Error: {rmse_lr}\")\n",
    "print(f\"R-squared: {r2_lr}\")"
   ]
  },
  {
   "cell_type": "code",
   "execution_count": 122,
   "id": "baf7b7c8-4aeb-4ae3-9e0c-6933491df266",
   "metadata": {},
   "outputs": [
    {
     "name": "stdout",
     "output_type": "stream",
     "text": [
      "Model: Decision Tree\n",
      "Mean Squared Error: 1.8926140947081704\n",
      "Root Mean Squared Error: 1.3757231170217976\n",
      "R-squared: -0.4797082522676599\n"
     ]
    }
   ],
   "source": [
    "dt_model = DecisionTreeRegressor()\n",
    "dt_model.fit(X_train, y_train)\n",
    "\n",
    "y_pred_dt = dt_model.predict(X_test)\n",
    "mse_dt = mean_squared_error(y_test, y_pred_dt)\n",
    "rmse_dt = np.sqrt(mse_dt)\n",
    "r2_dt = r2_score(y_test, y_pred_dt)\n",
    "\n",
    "print(f\"Model: Decision Tree\")\n",
    "print(f\"Mean Squared Error: {mse_dt}\")\n",
    "print(f\"Root Mean Squared Error: {rmse_dt}\")\n",
    "print(f\"R-squared: {r2_dt}\")"
   ]
  },
  {
   "cell_type": "markdown",
   "id": "bcca64bd-a26e-49e1-9470-195cbd16b671",
   "metadata": {},
   "source": [
    "## Part 2 "
   ]
  },
  {
   "cell_type": "code",
   "execution_count": 74,
   "id": "4e1a2ec4-f9fd-4219-b8f2-3239fd056789",
   "metadata": {},
   "outputs": [],
   "source": [
    "from nltk.tokenize import word_tokenize\n",
    "from nltk.corpus import stopwords\n",
    "from nltk.stem import PorterStemmer\n",
    "import pandas as pd\n",
    "import numpy as np\n",
    "from gensim.models import Word2Vec\n",
    "from sklearn.feature_extraction.text import CountVectorizer, TfidfVectorizer\n",
    "from sklearn.model_selection import train_test_split\n",
    "from sklearn.svm import SVC\n",
    "from sklearn.naive_bayes import GaussianNB\n",
    "from sklearn.linear_model import LogisticRegression\n",
    "from sklearn.ensemble import AdaBoostClassifier\n",
    "from sklearn.metrics import accuracy_score, f1_score\n",
    "from sklearn.preprocessing import StandardScaler"
   ]
  },
  {
   "cell_type": "code",
   "execution_count": 75,
   "id": "b68ce7a8-4927-40d3-9faa-29058e2e2c08",
   "metadata": {},
   "outputs": [],
   "source": [
    "data = pd.read_csv('twitter_training.csv', sep=',', names=['ID', 'Entity', 'Sentiment', 'Text'])\n",
    "val_data = pd.read_csv('twitter_validation.csv', sep=',', names=['ID', 'Entity', 'Sentiment', 'Text'])"
   ]
  },
  {
   "cell_type": "code",
   "execution_count": 78,
   "id": "728fa3e0-5b56-4dc4-ac24-a47aff676266",
   "metadata": {},
   "outputs": [],
   "source": [
    "data.dropna(subset=['Text'], inplace=True)\n",
    "val_data.dropna(subset=['Text'], inplace=True)"
   ]
  },
  {
   "cell_type": "code",
   "execution_count": 79,
   "id": "892c75bf-73be-4eef-8284-b70cdecb1fac",
   "metadata": {},
   "outputs": [],
   "source": [
    "def preprocess_text(text):\n",
    "    text = text.lower()  \n",
    "    text = re.sub(r'\\W', ' ', text) \n",
    "    text = re.sub(r'\\s+', ' ', text) \n",
    "    return text\n",
    "\n",
    "def tokenize(text):\n",
    "    return word_tokenize(text)\n",
    "\n",
    "def remove_stopwords(tokens):\n",
    "    stop_words = set(stopwords.words('english'))\n",
    "    return [word for word in tokens if word not in stop_words]\n",
    "\n",
    "def lemmatize(tokens):\n",
    "    lemmatizer = WordNetLemmatizer()\n",
    "    return [lemmatizer.lemmatize(word) for word in tokens]\n"
   ]
  },
  {
   "cell_type": "code",
   "execution_count": 80,
   "id": "e545865c-a251-417f-a273-da240335d622",
   "metadata": {},
   "outputs": [],
   "source": [
    "data['cleaned_text'] = data['Text'].apply(preprocess_text)\n",
    "val_data['cleaned_text'] = val_data['Text'].apply(preprocess_text)\n",
    "\n",
    "data['tokens'] = data['cleaned_text'].apply(tokenize)\n",
    "val_data['tokens'] = val_data['cleaned_text'].apply(tokenize)\n",
    "\n",
    "data['tokens'] = data['tokens'].apply(remove_stopwords)\n",
    "val_data['tokens'] = val_data['tokens'].apply(remove_stopwords)\n",
    "\n",
    "data['tokens'] = data['tokens'].apply(lemmatize)\n",
    "val_data['tokens'] = val_data['tokens'].apply(lemmatize)"
   ]
  },
  {
   "cell_type": "code",
   "execution_count": 82,
   "id": "1cd18602-4da2-4933-91f4-78f1514c9963",
   "metadata": {},
   "outputs": [],
   "source": [
    "word2vec_model = Word2Vec(sentences=data['tokens'], vector_size=100, window=5, min_count=1, sg=0)\n",
    "\n",
    "def get_word_embedding(tokens, model):\n",
    "    embeddings = []\n",
    "    for word in tokens:\n",
    "        if word in model.wv:\n",
    "            embeddings.append(model.wv[word])\n",
    "    if embeddings:\n",
    "        return np.mean(embeddings, axis=0)\n",
    "    else:\n",
    "        return np.zeros(model.vector_size)  # Return zero vector if no embeddings found\n",
    "\n",
    "train_word2vec = data['tokens'].apply(lambda x: get_word_embedding(x, word2vec_model))\n",
    "val_word2vec = val_data['tokens'].apply(lambda x: get_word_embedding(x, word2vec_model))\n"
   ]
  },
  {
   "cell_type": "code",
   "execution_count": 83,
   "id": "7e4c849f-6c4c-4ce7-94de-fc0343c2b356",
   "metadata": {},
   "outputs": [],
   "source": [
    "bow_vectorizer = CountVectorizer()\n",
    "train_bow = bow_vectorizer.fit_transform(data['cleaned_text'])\n",
    "val_bow = bow_vectorizer.transform(val_data['cleaned_text'])\n",
    "\n",
    "tfidf_vectorizer = TfidfVectorizer()\n",
    "train_tfidf = tfidf_vectorizer.fit_transform(data['cleaned_text'])\n",
    "val_tfidf = tfidf_vectorizer.transform(val_data['cleaned_text'])"
   ]
  },
  {
   "cell_type": "code",
   "execution_count": 85,
   "id": "753425dd-34b7-4ec8-8e78-43e5a10d13fd",
   "metadata": {},
   "outputs": [],
   "source": [
    "X_train = np.vstack(train_word2vec)\n",
    "X_val = np.vstack(val_word2vec)\n",
    "\n",
    "y_train = data['Sentiment'].values\n",
    "y_val = val_data['Sentiment'].values"
   ]
  },
  {
   "cell_type": "code",
   "execution_count": 87,
   "id": "55c1b9f3-dcbf-4f5f-a26c-b793071b7088",
   "metadata": {},
   "outputs": [],
   "source": [
    "svm_model = SVC()\n",
    "svm_model.fit(X_train, y_train)\n",
    "svm_pred = svm_model.predict(X_val)"
   ]
  },
  {
   "cell_type": "code",
   "execution_count": 88,
   "id": "fab08466-4977-4ca2-a2c5-63e167861b7a",
   "metadata": {},
   "outputs": [],
   "source": [
    "nb_model = GaussianNB()\n",
    "nb_model.fit(X_train, y_train)\n",
    "nb_pred = nb_model.predict(X_val)"
   ]
  },
  {
   "cell_type": "code",
   "execution_count": 89,
   "id": "aeab3148-1ad6-4fb2-b043-6742a53a3e86",
   "metadata": {},
   "outputs": [
    {
     "name": "stderr",
     "output_type": "stream",
     "text": [
      "C:\\Users\\IMANE\\pythonlab\\lib\\site-packages\\sklearn\\linear_model\\_logistic.py:460: ConvergenceWarning: lbfgs failed to converge (status=1):\n",
      "STOP: TOTAL NO. of ITERATIONS REACHED LIMIT.\n",
      "\n",
      "Increase the number of iterations (max_iter) or scale the data as shown in:\n",
      "    https://scikit-learn.org/stable/modules/preprocessing.html\n",
      "Please also refer to the documentation for alternative solver options:\n",
      "    https://scikit-learn.org/stable/modules/linear_model.html#logistic-regression\n",
      "  n_iter_i = _check_optimize_result(\n"
     ]
    }
   ],
   "source": [
    "lr_model = LogisticRegression()\n",
    "lr_model.fit(X_train, y_train)\n",
    "lr_pred = lr_model.predict(X_val)"
   ]
  },
  {
   "cell_type": "code",
   "execution_count": 90,
   "id": "e560c358-2f05-48d9-bc44-f4445c0c54a4",
   "metadata": {},
   "outputs": [],
   "source": [
    "ada_model = AdaBoostClassifier()\n",
    "ada_model.fit(X_train, y_train)\n",
    "ada_pred = ada_model.predict(X_val)"
   ]
  },
  {
   "cell_type": "code",
   "execution_count": 94,
   "id": "34049a83-7dde-4721-b4c2-0fb05fc89fe9",
   "metadata": {},
   "outputs": [
    {
     "name": "stdout",
     "output_type": "stream",
     "text": [
      "SVM - Accuracy: 0.589 F1 Score: 0.571042148970057\n",
      "Naive Bayes - Accuracy: 0.476 F1 Score: 0.47379327857108183\n",
      "Logistic Regression - Accuracy: 0.532 F1 Score: 0.5052603419063398\n",
      "AdaBoost - Accuracy: 0.521 F1 Score: 0.5026804283528512\n"
     ]
    }
   ],
   "source": [
    "svm_accuracy = accuracy_score(y_val, svm_pred)\n",
    "svm_f1 = f1_score(y_val, svm_pred, average='weighted')\n",
    "\n",
    "nb_accuracy = accuracy_score(y_val, nb_pred)\n",
    "nb_f1 = f1_score(y_val, nb_pred, average='weighted')\n",
    "\n",
    "lr_accuracy = accuracy_score(y_val, lr_pred)\n",
    "lr_f1 = f1_score(y_val, lr_pred, average='weighted')\n",
    "\n",
    "adb_accuracy = accuracy_score(y_val, ada_pred)\n",
    "adb_f1 = f1_score(y_val, ada_pred, average='weighted')\n",
    "\n",
    "\n",
    "print(\"SVM - Accuracy:\", svm_accuracy, \"F1 Score:\", svm_f1)\n",
    "print(\"Naive Bayes - Accuracy:\", nb_accuracy, \"F1 Score:\", nb_f1)\n",
    "print(\"Logistic Regression - Accuracy:\", lr_accuracy, \"F1 Score:\", lr_f1)\n",
    "print(\"AdaBoost - Accuracy:\", adb_accuracy, \"F1 Score:\", adb_f1)\n"
   ]
  },
  {
   "cell_type": "code",
   "execution_count": 127,
   "id": "bcf1378b-7007-42f0-807f-662888518be8",
   "metadata": {},
   "outputs": [
    {
     "data": {
      "image/png": "[encoded data removed]",
      "text/plain": [
       "<Figure size 800x500 with 1 Axes>"
      ]
     },
     "metadata": {},
     "output_type": "display_data"
    },
    {
     "data": {
      "image/png": "[encoded data removed]",
      "text/plain": [
       "<Figure size 800x500 with 1 Axes>"
      ]
     },
     "metadata": {},
     "output_type": "display_data"
    }
   ],
   "source": [
    "import matplotlib.pyplot as plt\n",
    "import seaborn as sns\n",
    "\n",
    "\n",
    "models = ['SVM', 'Naive Bayes', 'Logistic Regression', 'AdaBoost']\n",
    "accuracy_scores = [svm_accuracy, nb_accuracy, lr_accuracy, adb_accuracy]\n",
    "f1_scores = [svm_f1, nb_f1, lr_f1, adb_f1]\n",
    "\n",
    "results_df = pd.DataFrame({\n",
    "    'Model': models,\n",
    "    'Accuracy': accuracy_scores,\n",
    "    'F1 Score': f1_scores\n",
    "})\n",
    "\n",
    "\n",
    "plt.figure(figsize=(8, 5))\n",
    "sns.barplot(x='Model', y='Accuracy', data=results_df)\n",
    "plt.title('Model Accuracy Comparison')\n",
    "plt.ylabel('Accuracy')\n",
    "plt.show()\n",
    "\n",
    "\n",
    "plt.figure(figsize=(8, 5))\n",
    "sns.barplot(x='Model', y='F1 Score', data=results_df)\n",
    "plt.title('Model F1 Score Comparison')\n",
    "plt.ylabel('F1 Score')\n",
    "plt.show()"
   ]
  },
  {
   "cell_type": "code",
   "execution_count": 1,
   "id": "fcd1b769-fa36-46fb-9ead-bc25bce50f63",
   "metadata": {},
   "outputs": [
    {
     "ename": "SyntaxError",
     "evalue": "invalid syntax (2709955177.py, line 1)",
     "output_type": "error",
     "traceback": [
      "\u001b[1;36m  Cell \u001b[1;32mIn[1], line 1\u001b[1;36m\u001b[0m\n\u001b[1;33m    git clone https://github.com/Zaoui-Hanane/NLP-Lab3.git\u001b[0m\n\u001b[1;37m        ^\u001b[0m\n\u001b[1;31mSyntaxError\u001b[0m\u001b[1;31m:\u001b[0m invalid syntax\n"
     ]
    }
   ],
   "source": [
    "git clone https://github.com/Zaoui-Hanane/NLP-Lab3.git\n"
   ]
  },
  {
   "cell_type": "code",
   "execution_count": null,
   "id": "62fa8021",
   "metadata": {},
   "outputs": [],
   "source": []
  }
 ],
 "metadata": {
  "kernelspec": {
   "display_name": "Python 3 (ipykernel)",
   "language": "python",
   "name": "python3"
  },
  "language_info": {
   "codemirror_mode": {
    "name": "ipython",
    "version": 3
   },
   "file_extension": ".py",
   "mimetype": "text/x-python",
   "name": "python",
   "nbconvert_exporter": "python",
   "pygments_lexer": "ipython3",
   "version": "3.11.5"
  }
 },
 "nbformat": 4,
 "nbformat_minor": 5
}
